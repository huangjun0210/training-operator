{
 "cells": [
  {
   "cell_type": "markdown",
   "metadata": {
    "pycharm": {
     "name": "#%% md\n"
    }
   },
   "source": [
    "# Sample for Kubeflow PyTorchJob SDK"
   ]
  },
  {
   "cell_type": "markdown",
   "metadata": {
    "pycharm": {
     "name": "#%% md\n"
    }
   },
   "source": [
    "This is a sample for Kubeflow PyTorchJob SDK `kubeflow-pytorchjob`.\n",
    "\n",
    "The notebook shows how to use Kubeflow PyTorchJob SDK to create, get, wait, check and delete PyTorchJob."
   ]
  },
  {
   "cell_type": "code",
   "execution_count": 1,
   "metadata": {
    "pycharm": {
     "name": "#%%\n"
    }
   },
   "outputs": [],
   "source": [
    "from kubernetes.client import V1PodTemplateSpec\n",
    "from kubernetes.client import V1ObjectMeta\n",
    "from kubernetes.client import V1PodSpec\n",
    "from kubernetes.client import V1Container\n",
    "\n",
    "from kubeflow.training.utils import utils\n",
    "from kubeflow.training import V1ReplicaSpec\n",
    "from kubeflow.training import V1PyTorchJob\n",
    "from kubeflow.training import V1PyTorchJobSpec\n",
    "from kubeflow.training import V1RunPolicy\n",
    "from kubeflow.training import PyTorchJobClient"
   ]
  },
  {
   "cell_type": "markdown",
   "metadata": {
    "pycharm": {
     "name": "#%% md\n"
    }
   },
   "source": [
    "Define namespace where pytorchjob needs to be created to. If not specified, below function defines namespace to the current one where SDK is running in the cluster, otherwise it will deploy to default namespace."
   ]
  },
  {
   "cell_type": "code",
   "execution_count": 2,
   "metadata": {
    "pycharm": {
     "name": "#%%\n"
    }
   },
   "outputs": [],
   "source": [
    "namespace = utils.get_default_target_namespace()"
   ]
  },
  {
   "cell_type": "markdown",
   "metadata": {
    "pycharm": {
     "name": "#%% md\n"
    }
   },
   "source": [
    "### Define PyTorchJob"
   ]
  },
  {
   "cell_type": "markdown",
   "metadata": {
    "pycharm": {
     "name": "#%% md\n"
    }
   },
   "source": [
    "The demo only creates a worker of PyTorchJob to run mnist sample."
   ]
  },
  {
   "cell_type": "code",
   "execution_count": 3,
   "metadata": {
    "pycharm": {
     "name": "#%%\n"
    }
   },
   "outputs": [],
   "source": [
    "container = V1Container(\n",
    "    name=\"pytorch\",\n",
    "    image=\"gcr.io/kubeflow-ci/pytorch-dist-mnist-test:v1.0\",\n",
    "    args=[\"--backend\",\"gloo\"]\n",
    ")\n",
    "\n",
    "master = V1ReplicaSpec(\n",
    "    replicas=1,\n",
    "    restart_policy=\"OnFailure\",\n",
    "    template=V1PodTemplateSpec(\n",
    "        spec=V1PodSpec(\n",
    "            containers=[container]\n",
    "        )\n",
    "    )\n",
    ")\n",
    "\n",
    "worker = V1ReplicaSpec(\n",
    "    replicas=1,\n",
    "    restart_policy=\"OnFailure\",\n",
    "    template=V1PodTemplateSpec(\n",
    "        spec=V1PodSpec(\n",
    "            containers=[container]\n",
    "        )\n",
    "    )\n",
    ")\n",
    "\n",
    "pytorchjob = V1PyTorchJob(\n",
    "    api_version=\"kubeflow.org/v1\",\n",
    "    kind=\"PyTorchJob\",\n",
    "    metadata=V1ObjectMeta(name=\"pytorch-dist-mnist-gloo\",namespace=namespace),\n",
    "    spec=V1PyTorchJobSpec(\n",
    "        run_policy=V1RunPolicy(clean_pod_policy=\"None\"),\n",
    "        pytorch_replica_specs={\"Master\": master,\n",
    "                               \"Worker\": worker}\n",
    "    )\n",
    ")"
   ]
  },
  {
   "cell_type": "markdown",
   "metadata": {
    "pycharm": {
     "name": "#%% md\n"
    }
   },
   "source": [
    "### Create PyTorchJob"
   ]
  },
  {
   "cell_type": "code",
   "execution_count": 4,
   "metadata": {
    "pycharm": {
     "name": "#%%\n"
    }
   },
   "outputs": [
    {
     "data": {
      "text/plain": [
       "{'apiVersion': 'kubeflow.org/v1',\n",
       " 'kind': 'PyTorchJob',\n",
       " 'metadata': {'creationTimestamp': '2022-07-07T09:59:54Z',\n",
       "  'generation': 1,\n",
       "  'managedFields': [{'apiVersion': 'kubeflow.org/v1',\n",
       "    'fieldsType': 'FieldsV1',\n",
       "    'fieldsV1': {'f:spec': {'.': {},\n",
       "      'f:pytorchReplicaSpecs': {'.': {},\n",
       "       'f:Master': {'.': {},\n",
       "        'f:replicas': {},\n",
       "        'f:restartPolicy': {},\n",
       "        'f:template': {'.': {}, 'f:spec': {'.': {}, 'f:containers': {}}}},\n",
       "       'f:Worker': {'.': {},\n",
       "        'f:replicas': {},\n",
       "        'f:restartPolicy': {},\n",
       "        'f:template': {'.': {}, 'f:spec': {'.': {}, 'f:containers': {}}}}},\n",
       "      'f:runPolicy': {'.': {}, 'f:cleanPodPolicy': {}}}},\n",
       "    'manager': 'OpenAPI-Generator',\n",
       "    'operation': 'Update',\n",
       "    'time': '2022-07-07T09:59:54Z'}],\n",
       "  'name': 'pytorch-dist-mnist-gloo',\n",
       "  'namespace': 'default',\n",
       "  'resourceVersion': '31116395',\n",
       "  'uid': 'ec32aedf-66ca-4d47-9f3f-ae4f344edb42'},\n",
       " 'spec': {'pytorchReplicaSpecs': {'Master': {'replicas': 1,\n",
       "    'restartPolicy': 'OnFailure',\n",
       "    'template': {'spec': {'containers': [{'args': ['--backend', 'gloo'],\n",
       "        'image': 'gcr.io/kubeflow-ci/pytorch-dist-mnist-test:v1.0',\n",
       "        'name': 'pytorch'}]}}},\n",
       "   'Worker': {'replicas': 1,\n",
       "    'restartPolicy': 'OnFailure',\n",
       "    'template': {'spec': {'containers': [{'args': ['--backend', 'gloo'],\n",
       "        'image': 'gcr.io/kubeflow-ci/pytorch-dist-mnist-test:v1.0',\n",
       "        'name': 'pytorch'}]}}}},\n",
       "  'runPolicy': {'cleanPodPolicy': 'None'}}}"
      ]
     },
     "execution_count": 4,
     "metadata": {},
     "output_type": "execute_result"
    }
   ],
   "source": [
    "pytorchjob_client = PyTorchJobClient()\n",
    "pytorchjob_client.create(pytorchjob)"
   ]
  },
  {
   "cell_type": "markdown",
   "metadata": {
    "pycharm": {
     "name": "#%% md\n"
    }
   },
   "source": [
    "### Get the created PyTorchJob "
   ]
  },
  {
   "cell_type": "code",
   "execution_count": 5,
   "metadata": {
    "pycharm": {
     "name": "#%%\n"
    }
   },
   "outputs": [
    {
     "data": {
      "text/plain": [
       "{'apiVersion': 'kubeflow.org/v1',\n",
       " 'kind': 'PyTorchJob',\n",
       " 'metadata': {'creationTimestamp': '2022-07-07T09:59:54Z',\n",
       "  'generation': 1,\n",
       "  'managedFields': [{'apiVersion': 'kubeflow.org/v1',\n",
       "    'fieldsType': 'FieldsV1',\n",
       "    'fieldsV1': {'f:spec': {'.': {},\n",
       "      'f:pytorchReplicaSpecs': {'.': {},\n",
       "       'f:Master': {'.': {},\n",
       "        'f:replicas': {},\n",
       "        'f:restartPolicy': {},\n",
       "        'f:template': {'.': {}, 'f:spec': {'.': {}, 'f:containers': {}}}},\n",
       "       'f:Worker': {'.': {},\n",
       "        'f:replicas': {},\n",
       "        'f:restartPolicy': {},\n",
       "        'f:template': {'.': {}, 'f:spec': {'.': {}, 'f:containers': {}}}}},\n",
       "      'f:runPolicy': {'.': {}, 'f:cleanPodPolicy': {}}}},\n",
       "    'manager': 'OpenAPI-Generator',\n",
       "    'operation': 'Update',\n",
       "    'time': '2022-07-07T09:59:54Z'}],\n",
       "  'name': 'pytorch-dist-mnist-gloo',\n",
       "  'namespace': 'default',\n",
       "  'resourceVersion': '31116395',\n",
       "  'uid': 'ec32aedf-66ca-4d47-9f3f-ae4f344edb42'},\n",
       " 'spec': {'pytorchReplicaSpecs': {'Master': {'replicas': 1,\n",
       "    'restartPolicy': 'OnFailure',\n",
       "    'template': {'spec': {'containers': [{'args': ['--backend', 'gloo'],\n",
       "        'image': 'gcr.io/kubeflow-ci/pytorch-dist-mnist-test:v1.0',\n",
       "        'name': 'pytorch'}]}}},\n",
       "   'Worker': {'replicas': 1,\n",
       "    'restartPolicy': 'OnFailure',\n",
       "    'template': {'spec': {'containers': [{'args': ['--backend', 'gloo'],\n",
       "        'image': 'gcr.io/kubeflow-ci/pytorch-dist-mnist-test:v1.0',\n",
       "        'name': 'pytorch'}]}}}},\n",
       "  'runPolicy': {'cleanPodPolicy': 'None'}}}"
      ]
     },
     "execution_count": 5,
     "metadata": {},
     "output_type": "execute_result"
    }
   ],
   "source": [
    "pytorchjob_client.get('pytorch-dist-mnist-gloo')"
   ]
  },
  {
   "cell_type": "markdown",
   "metadata": {
    "pycharm": {
     "name": "#%% md\n"
    }
   },
   "source": [
    "### Get the PyTorchJob status, check if the PyTorchJob has been started."
   ]
  },
  {
   "cell_type": "code",
   "execution_count": 6,
   "metadata": {
    "pycharm": {
     "name": "#%%\n"
    }
   },
   "outputs": [
    {
     "data": {
      "text/plain": [
       "'Running'"
      ]
     },
     "execution_count": 6,
     "metadata": {},
     "output_type": "execute_result"
    }
   ],
   "source": [
    "pytorchjob_client.get_job_status('pytorch-dist-mnist-gloo', namespace=namespace)"
   ]
  },
  {
   "cell_type": "markdown",
   "metadata": {
    "pycharm": {
     "name": "#%% md\n"
    }
   },
   "source": [
    "### Wait for the specified PyTorchJob to finish"
   ]
  },
  {
   "cell_type": "code",
   "execution_count": 7,
   "metadata": {
    "pycharm": {
     "name": "#%%\n"
    }
   },
   "outputs": [
    {
     "name": "stdout",
     "output_type": "stream",
     "text": [
      "NAME                           STATE                TIME                          \n",
      "pytorch-dist-mnist-gloo        Running              2022-07-07T09:59:54Z          \n",
      "pytorch-dist-mnist-gloo        Running              2022-07-07T09:59:54Z          \n",
      "pytorch-dist-mnist-gloo        Running              2022-07-07T09:59:54Z          \n",
      "pytorch-dist-mnist-gloo        Succeeded            2022-07-07T10:02:52Z          \n"
     ]
    }
   ],
   "source": [
    "pytorchjob_client.wait_for_job('pytorch-dist-mnist-gloo', namespace=namespace, watch=True)"
   ]
  },
  {
   "cell_type": "markdown",
   "metadata": {
    "pycharm": {
     "name": "#%% md\n"
    }
   },
   "source": [
    "### Check if the PyTorchJob succeeded"
   ]
  },
  {
   "cell_type": "code",
   "execution_count": 8,
   "metadata": {
    "pycharm": {
     "name": "#%%\n"
    }
   },
   "outputs": [
    {
     "data": {
      "text/plain": [
       "True"
      ]
     },
     "execution_count": 8,
     "metadata": {},
     "output_type": "execute_result"
    }
   ],
   "source": [
    "pytorchjob_client.is_job_succeeded('pytorch-dist-mnist-gloo', namespace=namespace)"
   ]
  },
  {
   "cell_type": "markdown",
   "metadata": {
    "pycharm": {
     "name": "#%% md\n"
    }
   },
   "source": [
    "### Get the PyTorchJob training logs."
   ]
  },
  {
   "cell_type": "code",
   "execution_count": 9,
   "metadata": {
    "pycharm": {
     "name": "#%%\n"
    }
   },
   "outputs": [
    {
     "name": "stderr",
     "output_type": "stream",
     "text": [
      "The logs of Pod pytorch-dist-mnist-gloo-master-0:\n",
      " Using CUDA\n",
      "Using distributed PyTorch with gloo backend\n",
      "Downloading http://yann.lecun.com/exdb/mnist/train-images-idx3-ubyte.gz\n",
      "Downloading http://yann.lecun.com/exdb/mnist/train-labels-idx1-ubyte.gz\n",
      "Downloading http://yann.lecun.com/exdb/mnist/t10k-images-idx3-ubyte.gz\n",
      "Downloading http://yann.lecun.com/exdb/mnist/t10k-labels-idx1-ubyte.gz\n",
      "Processing...\n",
      "Done!\n",
      "Train Epoch: 1 [0/60000 (0%)]\tloss=2.3000\n",
      "Train Epoch: 1 [640/60000 (1%)]\tloss=2.2135\n",
      "Train Epoch: 1 [1280/60000 (2%)]\tloss=2.1705\n",
      "Train Epoch: 1 [1920/60000 (3%)]\tloss=2.0767\n",
      "Train Epoch: 1 [2560/60000 (4%)]\tloss=1.8681\n",
      "Train Epoch: 1 [3200/60000 (5%)]\tloss=1.4142\n",
      "Train Epoch: 1 [3840/60000 (6%)]\tloss=1.0009\n",
      "Train Epoch: 1 [4480/60000 (7%)]\tloss=0.7757\n",
      "Train Epoch: 1 [5120/60000 (9%)]\tloss=0.4600\n",
      "Train Epoch: 1 [5760/60000 (10%)]\tloss=0.4863\n",
      "Train Epoch: 1 [6400/60000 (11%)]\tloss=0.4378\n",
      "Train Epoch: 1 [7040/60000 (12%)]\tloss=0.4104\n",
      "Train Epoch: 1 [7680/60000 (13%)]\tloss=0.4624\n",
      "Train Epoch: 1 [8320/60000 (14%)]\tloss=0.4293\n",
      "Train Epoch: 1 [8960/60000 (15%)]\tloss=0.3989\n",
      "Train Epoch: 1 [9600/60000 (16%)]\tloss=0.3864\n",
      "Train Epoch: 1 [10240/60000 (17%)]\tloss=0.2982\n",
      "Train Epoch: 1 [10880/60000 (18%)]\tloss=0.5041\n",
      "Train Epoch: 1 [11520/60000 (19%)]\tloss=0.5230\n",
      "Train Epoch: 1 [12160/60000 (20%)]\tloss=0.3375\n",
      "Train Epoch: 1 [12800/60000 (21%)]\tloss=0.3659\n",
      "Train Epoch: 1 [13440/60000 (22%)]\tloss=0.4509\n",
      "Train Epoch: 1 [14080/60000 (23%)]\tloss=0.3042\n",
      "Train Epoch: 1 [14720/60000 (25%)]\tloss=0.3583\n",
      "Train Epoch: 1 [15360/60000 (26%)]\tloss=0.3307\n",
      "Train Epoch: 1 [16000/60000 (27%)]\tloss=0.4413\n",
      "Train Epoch: 1 [16640/60000 (28%)]\tloss=0.3636\n",
      "Train Epoch: 1 [17280/60000 (29%)]\tloss=0.3138\n",
      "Train Epoch: 1 [17920/60000 (30%)]\tloss=0.2010\n",
      "Train Epoch: 1 [18560/60000 (31%)]\tloss=0.4972\n",
      "Train Epoch: 1 [19200/60000 (32%)]\tloss=0.3250\n",
      "Train Epoch: 1 [19840/60000 (33%)]\tloss=0.1196\n",
      "Train Epoch: 1 [20480/60000 (34%)]\tloss=0.1888\n",
      "Train Epoch: 1 [21120/60000 (35%)]\tloss=0.1406\n",
      "Train Epoch: 1 [21760/60000 (36%)]\tloss=0.3141\n",
      "Train Epoch: 1 [22400/60000 (37%)]\tloss=0.1499\n",
      "Train Epoch: 1 [23040/60000 (38%)]\tloss=0.2890\n",
      "Train Epoch: 1 [23680/60000 (39%)]\tloss=0.4677\n",
      "Train Epoch: 1 [24320/60000 (41%)]\tloss=0.2142\n",
      "Train Epoch: 1 [24960/60000 (42%)]\tloss=0.1532\n",
      "Train Epoch: 1 [25600/60000 (43%)]\tloss=0.2244\n",
      "Train Epoch: 1 [26240/60000 (44%)]\tloss=0.2621\n",
      "Train Epoch: 1 [26880/60000 (45%)]\tloss=0.2329\n",
      "Train Epoch: 1 [27520/60000 (46%)]\tloss=0.2639\n",
      "Train Epoch: 1 [28160/60000 (47%)]\tloss=0.2137\n",
      "Train Epoch: 1 [28800/60000 (48%)]\tloss=0.1318\n",
      "Train Epoch: 1 [29440/60000 (49%)]\tloss=0.2804\n",
      "Train Epoch: 1 [30080/60000 (50%)]\tloss=0.0944\n",
      "Train Epoch: 1 [30720/60000 (51%)]\tloss=0.1269\n",
      "Train Epoch: 1 [31360/60000 (52%)]\tloss=0.2471\n",
      "Train Epoch: 1 [32000/60000 (53%)]\tloss=0.3390\n",
      "Train Epoch: 1 [32640/60000 (54%)]\tloss=0.1534\n",
      "Train Epoch: 1 [33280/60000 (55%)]\tloss=0.0907\n",
      "Train Epoch: 1 [33920/60000 (57%)]\tloss=0.1446\n",
      "Train Epoch: 1 [34560/60000 (58%)]\tloss=0.1972\n",
      "Train Epoch: 1 [35200/60000 (59%)]\tloss=0.2183\n",
      "Train Epoch: 1 [35840/60000 (60%)]\tloss=0.0633\n",
      "Train Epoch: 1 [36480/60000 (61%)]\tloss=0.1374\n",
      "Train Epoch: 1 [37120/60000 (62%)]\tloss=0.1159\n",
      "Train Epoch: 1 [37760/60000 (63%)]\tloss=0.2346\n",
      "Train Epoch: 1 [38400/60000 (64%)]\tloss=0.0635\n",
      "Train Epoch: 1 [39040/60000 (65%)]\tloss=0.1063\n",
      "Train Epoch: 1 [39680/60000 (66%)]\tloss=0.1593\n",
      "Train Epoch: 1 [40320/60000 (67%)]\tloss=0.1092\n",
      "Train Epoch: 1 [40960/60000 (68%)]\tloss=0.1780\n",
      "Train Epoch: 1 [41600/60000 (69%)]\tloss=0.2315\n",
      "Train Epoch: 1 [42240/60000 (70%)]\tloss=0.0749\n",
      "Train Epoch: 1 [42880/60000 (71%)]\tloss=0.1545\n",
      "Train Epoch: 1 [43520/60000 (72%)]\tloss=0.2769\n",
      "Train Epoch: 1 [44160/60000 (74%)]\tloss=0.1410\n",
      "Train Epoch: 1 [44800/60000 (75%)]\tloss=0.1166\n",
      "Train Epoch: 1 [45440/60000 (76%)]\tloss=0.1223\n",
      "Train Epoch: 1 [46080/60000 (77%)]\tloss=0.0766\n",
      "Train Epoch: 1 [46720/60000 (78%)]\tloss=0.1942\n",
      "Train Epoch: 1 [47360/60000 (79%)]\tloss=0.0683\n",
      "Train Epoch: 1 [48000/60000 (80%)]\tloss=0.2076\n",
      "Train Epoch: 1 [48640/60000 (81%)]\tloss=0.1363\n",
      "Train Epoch: 1 [49280/60000 (82%)]\tloss=0.0939\n",
      "Train Epoch: 1 [49920/60000 (83%)]\tloss=0.1081\n",
      "Train Epoch: 1 [50560/60000 (84%)]\tloss=0.1187\n",
      "Train Epoch: 1 [51200/60000 (85%)]\tloss=0.1482\n",
      "Train Epoch: 1 [51840/60000 (86%)]\tloss=0.0674\n",
      "Train Epoch: 1 [52480/60000 (87%)]\tloss=0.0240\n",
      "Train Epoch: 1 [53120/60000 (88%)]\tloss=0.2628\n",
      "Train Epoch: 1 [53760/60000 (90%)]\tloss=0.0929\n",
      "Train Epoch: 1 [54400/60000 (91%)]\tloss=0.1286\n",
      "Train Epoch: 1 [55040/60000 (92%)]\tloss=0.1895\n",
      "Train Epoch: 1 [55680/60000 (93%)]\tloss=0.0345\n",
      "Train Epoch: 1 [56320/60000 (94%)]\tloss=0.0364\n",
      "Train Epoch: 1 [56960/60000 (95%)]\tloss=0.0763\n",
      "Train Epoch: 1 [57600/60000 (96%)]\tloss=0.1167\n",
      "Train Epoch: 1 [58240/60000 (97%)]\tloss=0.1930\n",
      "Train Epoch: 1 [58880/60000 (98%)]\tloss=0.2035\n",
      "Train Epoch: 1 [59520/60000 (99%)]\tloss=0.0641\n",
      "\n",
      "accuracy=0.9668\n",
      "\n",
      "\n"
     ]
    }
   ],
   "source": [
    "pytorchjob_client.get_logs('pytorch-dist-mnist-gloo', namespace=namespace)"
   ]
  },
  {
   "cell_type": "markdown",
   "metadata": {
    "pycharm": {
     "name": "#%% md\n"
    }
   },
   "source": [
    "### Delete the PyTorchJob"
   ]
  },
  {
   "cell_type": "code",
   "execution_count": 10,
   "metadata": {
    "pycharm": {
     "name": "#%%\n"
    }
   },
   "outputs": [
    {
     "data": {
      "text/plain": [
       "{'kind': 'Status',\n",
       " 'apiVersion': 'v1',\n",
       " 'metadata': {},\n",
       " 'status': 'Success',\n",
       " 'details': {'name': 'pytorch-dist-mnist-gloo',\n",
       "  'group': 'kubeflow.org',\n",
       "  'kind': 'pytorchjobs',\n",
       "  'uid': 'ec32aedf-66ca-4d47-9f3f-ae4f344edb42'}}"
      ]
     },
     "execution_count": 10,
     "metadata": {},
     "output_type": "execute_result"
    }
   ],
   "source": [
    "pytorchjob_client.delete('pytorch-dist-mnist-gloo')"
   ]
  }
 ],
 "metadata": {
  "kernelspec": {
   "display_name": "Python 3.6.13 ('scheduler')",
   "language": "python",
   "name": "python3"
  },
  "language_info": {
   "codemirror_mode": {
    "name": "ipython",
    "version": 3
   },
   "file_extension": ".py",
   "mimetype": "text/x-python",
   "name": "python",
   "nbconvert_exporter": "python",
   "pygments_lexer": "ipython3",
   "version": "3.6.13"
  },
  "vscode": {
   "interpreter": {
    "hash": "d23e2bb0192f00d796f598905c5407815c984bf2dc5feb5a2044aa0597625669"
   }
  }
 },
 "nbformat": 4,
 "nbformat_minor": 4
}
