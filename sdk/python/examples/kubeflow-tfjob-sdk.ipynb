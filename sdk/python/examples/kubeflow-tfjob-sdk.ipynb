{
 "cells": [
  {
   "cell_type": "markdown",
   "metadata": {},
   "source": [
    "# Sample for Kubeflow TFJob SDK"
   ]
  },
  {
   "cell_type": "markdown",
   "metadata": {},
   "source": [
    "This is a sample for Kubeflow TFJob SDK `kubeflow-tfjob`.\n",
    "\n",
    "The notebook shows how to use Kubeflow TFJob SDK to create, get, wait, check and delete tfjob."
   ]
  },
  {
   "cell_type": "code",
   "execution_count": 1,
   "metadata": {},
   "outputs": [],
   "source": [
    "from kubernetes.client import V1PodTemplateSpec\n",
    "from kubernetes.client import V1ObjectMeta\n",
    "from kubernetes.client import V1PodSpec\n",
    "from kubernetes.client import V1Container\n",
    "\n",
    "from kubeflow.tfjob import constants\n",
    "from kubeflow.tfjob import utils\n",
    "from kubeflow.tfjob import V1ReplicaSpec\n",
    "from kubeflow.tfjob import V1TFJob\n",
    "from kubeflow.tfjob import V1TFJobSpec\n",
    "from kubeflow.tfjob import TFJobClient"
   ]
  },
  {
   "cell_type": "markdown",
   "metadata": {},
   "source": [
    "Define namespace where tfjob needs to be created to. If not specified, below function defines namespace to the current one where SDK is running in the cluster, otherwise it will deploy to default namespace."
   ]
  },
  {
   "cell_type": "code",
   "execution_count": 2,
   "metadata": {},
   "outputs": [],
   "source": [
    "namespace = utils.get_default_target_namespace()"
   ]
  },
  {
   "cell_type": "markdown",
   "metadata": {},
   "source": [
    "### Define TFJob"
   ]
  },
  {
   "cell_type": "markdown",
   "metadata": {},
   "source": [
    "The demo only creates a worker of TFJob to run mnist sample."
   ]
  },
  {
   "cell_type": "code",
   "execution_count": 3,
   "metadata": {},
   "outputs": [],
   "source": [
    "container = V1Container(\n",
    "    name=\"tensorflow\",\n",
    "    image=\"gcr.io/kubeflow-ci/tf-mnist-with-summaries:1.0\",\n",
    "    command=[\n",
    "        \"python\",\n",
    "        \"/var/tf_mnist/mnist_with_summaries.py\",\n",
    "        \"--log_dir=/train/logs\", \"--learning_rate=0.01\",\n",
    "        \"--batch_size=150\"\n",
    "        ]\n",
    ")\n",
    "\n",
    "worker = V1ReplicaSpec(\n",
    "    replicas=1,\n",
    "    restart_policy=\"Never\",\n",
    "    template=V1PodTemplateSpec(\n",
    "        spec=V1PodSpec(\n",
    "            containers=[container]\n",
    "        )\n",
    "    )\n",
    ")\n",
    "\n",
    "tfjob = V1TFJob(\n",
    "    api_version=\"kubeflow.org/v1\",\n",
    "    kind=\"TFJob\",\n",
    "    metadata=V1ObjectMeta(name=\"mnist\",namespace=namespace),\n",
    "    spec=V1TFJobSpec(\n",
    "        clean_pod_policy=\"None\",\n",
    "        tf_replica_specs={\"Worker\": worker}\n",
    "    )\n",
    ")"
   ]
  },
  {
   "cell_type": "markdown",
   "metadata": {},
   "source": [
    "### Create TFJob"
   ]
  },
  {
   "cell_type": "code",
   "execution_count": 4,
   "metadata": {},
   "outputs": [
    {
     "data": {
      "text/plain": [
       "{'apiVersion': 'kubeflow.org/v1',\n",
       " 'kind': 'TFJob',\n",
       " 'metadata': {'creationTimestamp': '2019-12-31T09:20:07Z',\n",
       "  'generation': 1,\n",
       "  'name': 'mnist',\n",
       "  'namespace': 'default',\n",
       "  'resourceVersion': '20125141',\n",
       "  'selfLink': '/apis/kubeflow.org/v1/namespaces/default/tfjobs/mnist',\n",
       "  'uid': 'bcb3b867-2bae-11ea-8c04-00000a1001ee'},\n",
       " 'spec': {'cleanPodPolicy': 'None',\n",
       "  'tfReplicaSpecs': {'Worker': {'replicas': 1,\n",
       "    'restartPolicy': 'Never',\n",
       "    'template': {'spec': {'containers': [{'command': ['python',\n",
       "         '/var/tf_mnist/mnist_with_summaries.py',\n",
       "         '--log_dir=/train/logs',\n",
       "         '--learning_rate=0.01',\n",
       "         '--batch_size=150'],\n",
       "        'image': 'gcr.io/kubeflow-ci/tf-mnist-with-summaries:1.0',\n",
       "        'name': 'tensorflow'}]}}}}}}"
      ]
     },
     "execution_count": 4,
     "metadata": {},
     "output_type": "execute_result"
    }
   ],
   "source": [
    "tfjob_client = TFJobClient()\n",
    "tfjob_client.create(tfjob, namespace=namespace)"
   ]
  },
  {
   "cell_type": "markdown",
   "metadata": {},
   "source": [
    "### Get the created TFJob "
   ]
  },
  {
   "cell_type": "code",
   "execution_count": 5,
   "metadata": {},
   "outputs": [
    {
     "data": {
      "text/plain": [
       "{'apiVersion': 'kubeflow.org/v1',\n",
       " 'kind': 'TFJob',\n",
       " 'metadata': {'creationTimestamp': '2019-12-31T09:20:07Z',\n",
       "  'generation': 1,\n",
       "  'name': 'mnist',\n",
       "  'namespace': 'default',\n",
       "  'resourceVersion': '20125155',\n",
       "  'selfLink': '/apis/kubeflow.org/v1/namespaces/default/tfjobs/mnist',\n",
       "  'uid': 'bcb3b867-2bae-11ea-8c04-00000a1001ee'},\n",
       " 'spec': {'cleanPodPolicy': 'None',\n",
       "  'tfReplicaSpecs': {'Worker': {'replicas': 1,\n",
       "    'restartPolicy': 'Never',\n",
       "    'template': {'spec': {'containers': [{'command': ['python',\n",
       "         '/var/tf_mnist/mnist_with_summaries.py',\n",
       "         '--log_dir=/train/logs',\n",
       "         '--learning_rate=0.01',\n",
       "         '--batch_size=150'],\n",
       "        'image': 'gcr.io/kubeflow-ci/tf-mnist-with-summaries:1.0',\n",
       "        'name': 'tensorflow'}]}}}}},\n",
       " 'status': {'conditions': [{'lastTransitionTime': '2019-12-31T09:20:07Z',\n",
       "    'lastUpdateTime': '2019-12-31T09:20:07Z',\n",
       "    'message': 'TFJob mnist is created.',\n",
       "    'reason': 'TFJobCreated',\n",
       "    'status': 'True',\n",
       "    'type': 'Created'}],\n",
       "  'replicaStatuses': {'Worker': {}},\n",
       "  'startTime': '2019-12-31T09:20:09Z'}}"
      ]
     },
     "execution_count": 5,
     "metadata": {},
     "output_type": "execute_result"
    }
   ],
   "source": [
    "tfjob_client.get('mnist', namespace=namespace)"
   ]
  },
  {
   "cell_type": "markdown",
   "metadata": {},
   "source": [
    "### Get the TFJob status, check if the TFJob has been started."
   ]
  },
  {
   "cell_type": "code",
   "execution_count": 6,
   "metadata": {},
   "outputs": [
    {
     "data": {
      "text/plain": [
       "'Created'"
      ]
     },
     "execution_count": 6,
     "metadata": {},
     "output_type": "execute_result"
    }
   ],
   "source": [
    "tfjob_client.get_job_status('mnist', namespace=namespace)"
   ]
  },
  {
   "cell_type": "markdown",
   "metadata": {},
   "source": [
    "### Wait for the specified job to finish"
   ]
  },
  {
   "cell_type": "code",
   "execution_count": 7,
   "metadata": {},
   "outputs": [
    {
     "name": "stdout",
     "output_type": "stream",
     "text": [
      "NAME                           STATE                TIME                          \n",
      "mnist                          Created              2019-12-31T09:20:07Z          \n",
      "mnist                          Running              2019-12-31T09:20:19Z          \n",
      "mnist                          Running              2019-12-31T09:20:19Z          \n",
      "mnist                          Succeeded            2019-12-31T09:22:04Z          \n"
     ]
    }
   ],
   "source": [
    "tfjob_client.wait_for_job('mnist', namespace=namespace, watch=True)"
   ]
  },
  {
   "cell_type": "markdown",
   "metadata": {},
   "source": [
    "### Check if the TFJob succeeded"
   ]
  },
  {
   "cell_type": "code",
   "execution_count": 8,
   "metadata": {
    "scrolled": true
   },
   "outputs": [
    {
     "data": {
      "text/plain": [
       "True"
      ]
     },
     "execution_count": 8,
     "metadata": {},
     "output_type": "execute_result"
    }
   ],
   "source": [
    "tfjob_client.is_job_succeeded('mnist', namespace=namespace)"
   ]
  },
  {
   "cell_type": "markdown",
   "metadata": {},
   "source": [
    "### Delete the TFJob"
   ]
  },
  {
   "cell_type": "code",
   "execution_count": 9,
   "metadata": {},
   "outputs": [
    {
     "data": {
      "text/plain": [
       "{'kind': 'Status',\n",
       " 'apiVersion': 'v1',\n",
       " 'metadata': {},\n",
       " 'status': 'Success',\n",
       " 'details': {'name': 'mnist',\n",
       "  'group': 'kubeflow.org',\n",
       "  'kind': 'tfjobs',\n",
       "  'uid': 'bcb3b867-2bae-11ea-8c04-00000a1001ee'}}"
      ]
     },
     "execution_count": 9,
     "metadata": {},
     "output_type": "execute_result"
    }
   ],
   "source": [
    "tfjob_client.delete('mnist', namespace=namespace)"
   ]
  },
  {
   "cell_type": "code",
   "execution_count": null,
   "metadata": {},
   "outputs": [],
   "source": []
  }
 ],
 "metadata": {
  "kernelspec": {
   "display_name": "Python 3",
   "language": "python",
   "name": "python3"
  },
  "language_info": {
   "codemirror_mode": {
    "name": "ipython",
    "version": 3
   },
   "file_extension": ".py",
   "mimetype": "text/x-python",
   "name": "python",
   "nbconvert_exporter": "python",
   "pygments_lexer": "ipython3",
   "version": "3.6.9"
  }
 },
 "nbformat": 4,
 "nbformat_minor": 2
}
