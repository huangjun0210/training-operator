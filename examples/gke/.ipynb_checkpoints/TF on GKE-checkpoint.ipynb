{
 "cells": [
  {
   "cell_type": "markdown",
   "metadata": {},
   "source": [
    "# TF on GKE\n",
    "\n",
    "This notebook shows how to run the [TensorFlow CIFAR10 sample](https://github.com/tensorflow/models/tree/master/tutorials/image/cifar10_estimator) on GKE using TfJobs"
   ]
  },
  {
   "cell_type": "code",
   "execution_count": 2,
   "metadata": {
    "collapsed": false
   },
   "outputs": [
    {
     "data": {
      "application/javascript": [
       "$.getScript('https://kmahelona.github.io/ipython_notebook_goodies/ipython_notebook_toc.js')"
      ],
      "text/plain": [
       "<IPython.core.display.Javascript object>"
      ]
     },
     "metadata": {},
     "output_type": "display_data"
    }
   ],
   "source": [
    "%%javascript\n",
    "$.getScript('https://kmahelona.github.io/ipython_notebook_goodies/ipython_notebook_toc.js')"
   ]
  },
  {
   "cell_type": "markdown",
   "metadata": {},
   "source": [
    "## Requirements\n",
    "\n",
    "To run this notebook you must have the following installed\n",
    "  * gcloud\n",
    "  * kubectl\n",
    "  * helm\n",
    "  * kubernetes python client library\n",
    "  \n",
    "There is a Docker image based on Datalab suitable for running this notebook."
   ]
  },
  {
   "cell_type": "markdown",
   "metadata": {},
   "source": [
    "## Preliminaries"
   ]
  },
  {
   "cell_type": "markdown",
   "metadata": {},
   "source": [
    "TODO(jlewi): Should we bake the dependencies into a Docker container?"
   ]
  },
  {
   "cell_type": "code",
   "execution_count": 26,
   "metadata": {
    "collapsed": true
   },
   "outputs": [],
   "source": [
    "from kubernetes import client as k8s_client\n",
    "from kubernetes import config as k8s_config\n",
    "import datetime\n",
    "from googleapiclient import discovery\n",
    "from googleapiclient import errors\n",
    "from oauth2client.client import GoogleCredentials\n",
    "import os\n",
    "import logging\n",
    "import subprocess\n",
    "\n",
    "logging.getLogger().setLevel(logging.INFO)"
   ]
  },
  {
   "cell_type": "markdown",
   "metadata": {},
   "source": [
    "Change **project** to a project you have access to.\n",
    "* GKE should be enabled for that project\n",
    "* Optional change the cluster name"
   ]
  },
  {
   "cell_type": "code",
   "execution_count": 29,
   "metadata": {
    "collapsed": false
   },
   "outputs": [],
   "source": [
    "project=\"cloud-ml-dev\"\n",
    "zone=\"us-east1-d\"\n",
    "cluster_name=\"gke-tf-example\"\n",
    "\n",
    "gke = discovery.build(\"container\", \"v1\")"
   ]
  },
  {
   "cell_type": "code",
   "execution_count": 2,
   "metadata": {
    "collapsed": false
   },
   "outputs": [
    {
     "name": "stdout",
     "output_type": "stream",
     "text": [
      "\n",
      "\n",
      "Your current Cloud SDK version is: 167.0.0\n",
      "Installing components from version: 167.0.0\n",
      "\n",
      "┌──────────────────────────────────────────────┐\n",
      "│     These components will be installed.      │\n",
      "├─────────────────────────┬─────────┬──────────┤\n",
      "│           Name          │ Version │   Size   │\n",
      "├─────────────────────────┼─────────┼──────────┤\n",
      "│ kubectl                 │         │          │\n",
      "│ kubectl (Linux, x86_64) │   1.7.3 │ 16.0 MiB │\n",
      "└─────────────────────────┴─────────┴──────────┘\n",
      "\n",
      "For the latest full release notes, please visit:\n",
      "  https://cloud.google.com/sdk/release_notes\n",
      "\n",
      "╔════════════════════════════════════════════════════════════╗\n",
      "╠═ Creating update staging area                             ═╣\n",
      "╠════════════════════════════════════════════════════════════╣\n",
      "╠═ Installing: kubectl                                      ═╣\n",
      "╠════════════════════════════════════════════════════════════╣\n",
      "╠═ Installing: kubectl (Linux, x86_64)                      ═╣\n",
      "╠════════════════════════════════════════════════════════════╣\n",
      "╠═ Creating backup and activating new installation          ═╣\n",
      "╚════════════════════════════════════════════════════════════╝\n",
      "\n",
      "Performing post processing steps...done.\n",
      "\n",
      "Update done!\n",
      "\n"
     ]
    }
   ],
   "source": [
    "# Install kubectl\n",
    "!gcloud components install -q kubectl"
   ]
  },
  {
   "cell_type": "code",
   "execution_count": 3,
   "metadata": {
    "collapsed": false
   },
   "outputs": [
    {
     "name": "stdout",
     "output_type": "stream",
     "text": [
      "Collecting kubernetes\n",
      "  Downloading kubernetes-3.0.0-py2.py3-none-any.whl (815kB)\n",
      "\u001b[K    100% |████████████████████████████████| 819kB 506kB/s \n",
      "\u001b[?25hRequirement already satisfied: requests in /usr/local/lib/python2.7/dist-packages (from kubernetes)\n",
      "Collecting urllib3!=1.21,>=1.19.1 (from kubernetes)\n",
      "  Downloading urllib3-1.22-py2.py3-none-any.whl (132kB)\n",
      "\u001b[K    100% |████████████████████████████████| 133kB 919kB/s \n",
      "\u001b[?25hCollecting setuptools>=21.0.0 (from kubernetes)\n",
      "  Downloading setuptools-36.6.0-py2.py3-none-any.whl (481kB)\n",
      "\u001b[K    100% |████████████████████████████████| 481kB 27kB/s \n",
      "\u001b[?25hRequirement already satisfied: google-auth>=1.0.1 in /usr/local/lib/python2.7/dist-packages (from kubernetes)\n",
      "Requirement already satisfied: certifi>=14.05.14 in /usr/local/lib/python2.7/dist-packages (from kubernetes)\n",
      "Collecting python-dateutil>=2.5.3 (from kubernetes)\n",
      "  Downloading python_dateutil-2.6.1-py2.py3-none-any.whl (194kB)\n",
      "\u001b[K    100% |████████████████████████████████| 194kB 45kB/s \n",
      "\u001b[?25hCollecting pyyaml>=3.12 (from kubernetes)\n",
      "  Downloading PyYAML-3.12.tar.gz (253kB)\n",
      "\u001b[K    100% |████████████████████████████████| 256kB 264kB/s \n",
      "\u001b[?25hCollecting websocket-client<=0.40.0,>=0.32.0 (from kubernetes)\n",
      "  Downloading websocket_client-0.40.0.tar.gz (196kB)\n",
      "\u001b[K    100% |████████████████████████████████| 204kB 113kB/s \n",
      "\u001b[?25hRequirement already satisfied: six>=1.9.0 in /usr/local/lib/python2.7/dist-packages (from kubernetes)\n",
      "Collecting ipaddress>=1.0.17 (from kubernetes)\n",
      "  Downloading ipaddress-1.0.18-py2-none-any.whl\n",
      "Requirement already satisfied: cachetools>=2.0.0 in /usr/local/lib/python2.7/dist-packages (from google-auth>=1.0.1->kubernetes)\n",
      "Requirement already satisfied: rsa>=3.1.4 in /usr/local/lib/python2.7/dist-packages (from google-auth>=1.0.1->kubernetes)\n",
      "Requirement already satisfied: pyasn1-modules>=0.0.5 in /usr/local/lib/python2.7/dist-packages (from google-auth>=1.0.1->kubernetes)\n",
      "Requirement already satisfied: pyasn1>=0.1.7 in /usr/local/lib/python2.7/dist-packages (from google-auth>=1.0.1->kubernetes)\n",
      "Collecting backports.ssl_match_hostname (from websocket-client<=0.40.0,>=0.32.0->kubernetes)\n",
      "  Downloading backports.ssl_match_hostname-3.5.0.1.tar.gz\n",
      "Building wheels for collected packages: pyyaml, websocket-client, backports.ssl-match-hostname\n",
      "  Running setup.py bdist_wheel for pyyaml ... \u001b[?25l-\b \bdone\n",
      "\u001b[?25h  Stored in directory: /root/.cache/pip/wheels/2c/f7/79/13f3a12cd723892437c0cfbde1230ab4d82947ff7b3839a4fc\n",
      "  Running setup.py bdist_wheel for websocket-client ... \u001b[?25l-\b \bdone\n",
      "\u001b[?25h  Stored in directory: /root/.cache/pip/wheels/d1/5e/dd/93da015a0ecc8375278b05ad7f0452eff574a044bcea2a95d2\n",
      "  Running setup.py bdist_wheel for backports.ssl-match-hostname ... \u001b[?25l-\b \bdone\n",
      "\u001b[?25h  Stored in directory: /root/.cache/pip/wheels/5d/72/36/b2a31507b613967b728edc33378a5ff2ada0f62855b93c5ae1\n",
      "Successfully built pyyaml websocket-client backports.ssl-match-hostname\n",
      "Installing collected packages: urllib3, setuptools, python-dateutil, pyyaml, backports.ssl-match-hostname, websocket-client, ipaddress, kubernetes\n",
      "  Found existing installation: setuptools 20.7.0\n",
      "    Uninstalling setuptools-20.7.0:\n",
      "      Successfully uninstalled setuptools-20.7.0\n",
      "  Found existing installation: python-dateutil 2.5.0\n",
      "    Uninstalling python-dateutil-2.5.0:\n",
      "      Successfully uninstalled python-dateutil-2.5.0\n",
      "  Found existing installation: PyYAML 3.11\n",
      "    Uninstalling PyYAML-3.11:\n",
      "      Successfully uninstalled PyYAML-3.11\n",
      "Successfully installed backports.ssl-match-hostname-3.5.0.1 ipaddress-1.0.18 kubernetes-3.0.0 python-dateutil-2.6.1 pyyaml-3.12 setuptools-36.6.0 urllib3-1.22 websocket-client-0.40.0\n"
     ]
    }
   ],
   "source": [
    "# Install Python K8s client library\n",
    "!pip install kubernetes"
   ]
  },
  {
   "cell_type": "markdown",
   "metadata": {},
   "source": [
    "### Some Utility Functions"
   ]
  },
  {
   "cell_type": "code",
   "execution_count": 27,
   "metadata": {
    "collapsed": false
   },
   "outputs": [],
   "source": [
    "def run(command, cwd=None):\n",
    "  logging.info(\"Running: %s\", \" \".join(command))\n",
    "  subprocess.check_call(command, cwd=cwd)\n",
    "\n",
    "\n",
    "class TimeoutError(Exception):\n",
    "  \"\"\"An error indicating an operation timed out.\"\"\"\n",
    "\n",
    "\n",
    "def wait_for_operation(client,\n",
    "                       project,\n",
    "                       zone,\n",
    "                       op_id,\n",
    "                       timeout=datetime.timedelta(hours=1),\n",
    "                       polling_interval=datetime.timedelta(seconds=5)):\n",
    "  \"\"\"Wait for the specified operation to complete.\n",
    "\n",
    "  Args:\n",
    "    client: Client for the API that owns the operation.\n",
    "    project: project\n",
    "    zone: Zone. Set to none if its a global operation\n",
    "    op_id: Operation id.\n",
    "    timeout: A datetime.timedelta expressing the amount of time to wait before\n",
    "      giving up.\n",
    "    polling_interval: A datetime.timedelta to represent the amount of time to\n",
    "      wait between requests polling for the operation status.\n",
    "\n",
    "  Returns:\n",
    "    op: The final operation.\n",
    "\n",
    "  Raises:\n",
    "    TimeoutError: if we timeout waiting for the operation to complete.\n",
    "  \"\"\"\n",
    "  endtime = datetime.datetime.now() + timeout\n",
    "  while True:\n",
    "    if zone:\n",
    "      op = client.projects().zones().operations().get(\n",
    "          projectId=project, zone=zone,\n",
    "          operationId=op_id).execute()\n",
    "    else:\n",
    "      op = client.globalOperations().get(project=project,\n",
    "                                         operation=op_id).execute()\n",
    "\n",
    "    status = op.get(\"status\", \"\")\n",
    "    # Need to handle other status's\n",
    "    if status == \"DONE\":\n",
    "      return op\n",
    "    if datetime.datetime.now() > endtime:\n",
    "      raise TimeoutError(\"Timed out waiting for op: {0} to complete.\".format(\n",
    "          op_id))\n",
    "    time.sleep(polling_interval.total_seconds())\n"
   ]
  },
  {
   "cell_type": "markdown",
   "metadata": {},
   "source": [
    "## GKE Cluster Setup"
   ]
  },
  {
   "cell_type": "markdown",
   "metadata": {},
   "source": [
    "* The instructions below create a **CPU** cluster\n",
    "* To create a GKE cluster with GPUs sign up for the [GKE GPU Alpha](https://goo.gl/forms/ef7eh2x00hV3hahx1)\n",
    "* TODO(jlewi): Update code once GPUs are in beta."
   ]
  },
  {
   "cell_type": "code",
   "execution_count": 30,
   "metadata": {
    "collapsed": false
   },
   "outputs": [
    {
     "name": "stderr",
     "output_type": "stream",
     "text": [
      "INFO:root:Creating cluster; project=cloud-ml-dev, zone=us-east1-d, name=gke-tf-example\n",
      "ERROR:root:Exception occured creating cluster: <HttpError 409 when requesting https://container.googleapis.com/v1/projects/cloud-ml-dev/zones/us-east1-d/clusters?alt=json returned \"The resource \"projects/cloud-ml-dev/zones/us-east1-d/clusters/gke-tf-example\" already exists.\">, status: 409\n",
      "INFO:root:Configuring kubectl\n",
      "INFO:root:Running: gcloud --project=cloud-ml-dev container clusters --zone=us-east1-d get-credentials gke-tf-example\n"
     ]
    }
   ],
   "source": [
    "def create_cluster(gke, name, project, zone):\n",
    "  \"\"\"Create the cluster.\n",
    "\n",
    "  Args:\n",
    "    gke: Client for GKE.\n",
    "\n",
    "  \"\"\"\n",
    "  cluster_request = {\n",
    "      \"cluster\": {\n",
    "          \"name\": name,\n",
    "          \"description\": \"A GKE cluster for TF.\",\n",
    "          \"initialNodeCount\": 1,\n",
    "          \"nodeConfig\": {\n",
    "              \"machineType\": \"n1-standard-8\",\n",
    "          },\n",
    "      }\n",
    "  }\n",
    "  request = gke.projects().zones().clusters().create(body=cluster_request,\n",
    "                                                     projectId=project,\n",
    "                                                     zone=zone)\n",
    "\n",
    "  try:\n",
    "    logging.info(\"Creating cluster; project=%s, zone=%s, name=%s\", project,\n",
    "                 zone, name)\n",
    "    response = request.execute()\n",
    "    logging.info(\"Response %s\", response)\n",
    "    create_op = wait_for_operation(gke, project, zone, response[\"name\"])\n",
    "    logging.info(\"Cluster creation done.\\n %s\", create_op)\n",
    "\n",
    "  except errors.HttpError as e:\n",
    "    logging.error(\"Exception occured creating cluster: %s, status: %s\",\n",
    "                  e, e.resp[\"status\"])\n",
    "    # Status appears to be a string.\n",
    "    if e.resp[\"status\"] == '409':      \n",
    "      pass\n",
    "    else:\n",
    "      raise\n",
    "\n",
    "create_cluster(gke, cluster_name, project, zone)      \n",
    "logging.info(\"Configuring kubectl\")\n",
    "run([\"gcloud\", \"--project=\" + project, \"container\",\n",
    "     \"clusters\", \"--zone=\" + zone, \"get-credentials\", cluster_name])\n"
   ]
  },
  {
   "cell_type": "code",
   "execution_count": 31,
   "metadata": {
    "collapsed": false
   },
   "outputs": [
    {
     "name": "stdout",
     "output_type": "stream",
     "text": [
      "NAME                                            STATUS    AGE       VERSION\r\n",
      "gke-gke-tf-example-default-pool-97078f00-mw22   Ready     16h       v1.7.6\r\n"
     ]
    }
   ],
   "source": [
    "k8s_config.load_kube_config()\n",
    "api_client = k8s_client.ApiClient()\n",
    "v1 = k8s_client.CoreV1Api(api_client)\n",
    "print(v1.api_client.host)\n",
    "print(v1.list_pod_for_all_namespaces())"
   ]
  },
  {
   "cell_type": "code",
   "execution_count": 24,
   "metadata": {
    "collapsed": false
   },
   "outputs": [
    {
     "data": {
      "text/plain": [
       "['/usr/local/lib/python2.7/dist-packages/kubernetes']"
      ]
     },
     "execution_count": 24,
     "metadata": {},
     "output_type": "execute_result"
    }
   ],
   "source": [
    "import kubernetes\n",
    "kubernetes.__path__"
   ]
  }
 ],
 "metadata": {
  "kernelspec": {
   "display_name": "Python 2",
   "language": "python",
   "name": "python2"
  },
  "language_info": {
   "codemirror_mode": {
    "name": "ipython",
    "version": 2
   },
   "file_extension": ".py",
   "mimetype": "text/x-python",
   "name": "python",
   "nbconvert_exporter": "python",
   "pygments_lexer": "ipython2",
   "version": "2.7.12"
  }
 },
 "nbformat": 4,
 "nbformat_minor": 2
}
