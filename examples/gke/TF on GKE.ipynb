{
 "cells": [
  {
   "cell_type": "markdown",
   "metadata": {},
   "source": [
    "# TF on GKE\n",
    "\n",
    "This notebook shows how to run the [TensorFlow CIFAR10 sample](https://github.com/tensorflow/models/tree/master/tutorials/image/cifar10_estimator) on GKE using TfJobs"
   ]
  },
  {
   "cell_type": "code",
   "execution_count": 2,
   "metadata": {
    "collapsed": false
   },
   "outputs": [
    {
     "data": {
      "application/javascript": [
       "$.getScript('https://kmahelona.github.io/ipython_notebook_goodies/ipython_notebook_toc.js')"
      ],
      "text/plain": [
       "<IPython.core.display.Javascript object>"
      ]
     },
     "metadata": {},
     "output_type": "display_data"
    }
   ],
   "source": [
    "%%javascript\n",
    "$.getScript('https://kmahelona.github.io/ipython_notebook_goodies/ipython_notebook_toc.js')"
   ]
  },
  {
   "cell_type": "markdown",
   "metadata": {},
   "source": [
    "## Requirements\n",
    "\n",
    "To run this notebook you must have the following installed\n",
    "  * gcloud\n",
    "  * kubectl\n",
    "  * helm\n",
    "  * kubernetes python client library\n",
    "  \n",
    "There is a Docker image based on Datalab suitable for running this notebook.\n",
    "\n",
    "You can start that container as follows\n",
    "\n",
    "```\n",
    "docker run --name=gke-datalab -p \"127.0.0.1:8081:8080\" \\\n",
    "    -v \"${HOME}:/content/datalab/home\" \\\n",
    "    -v /var/run/docker.sock:/var/run/docker.sock -d  -e \"PROJECT_ID=\" \\\n",
    "    gcr.io/tf-on-k8s-dogfood/gke-datalab:v20171025-28df43b-dirty\n",
    "```\n",
    "  * You need to map in docker so that we can build docker images inside the container."
   ]
  },
  {
   "cell_type": "markdown",
   "metadata": {},
   "source": [
    "## Preliminaries"
   ]
  },
  {
   "cell_type": "code",
   "execution_count": 42,
   "metadata": {
    "collapsed": false
   },
   "outputs": [
    {
     "data": {
      "text/html": [
       "\n",
       "          <script src=\"/static/components/requirejs/require.js\"></script>\n",
       "          <script>\n",
       "            requirejs.config({\n",
       "              paths: {\n",
       "                base: '/static/base',\n",
       "              },\n",
       "            });\n",
       "          </script>\n",
       "          "
      ],
      "text/plain": [
       "<IPython.core.display.HTML object>"
      ]
     },
     "metadata": {},
     "output_type": "display_data"
    }
   ],
   "source": [
    "from __future__ import print_function\n",
    "\n",
    "import kubernetes\n",
    "from kubernetes import client as k8s_client\n",
    "from kubernetes import config as k8s_config\n",
    "from kubernetes.client.rest import ApiException\n",
    "import datetime\n",
    "from googleapiclient import discovery\n",
    "from googleapiclient import errors\n",
    "from oauth2client.client import GoogleCredentials\n",
    "import os\n",
    "import logging\n",
    "from pprint import pprint\n",
    "import StringIO\n",
    "import subprocess\n",
    "import yaml\n",
    "\n",
    "logging.getLogger().setLevel(logging.INFO)\n",
    "\n",
    "TF_JOB_GROUP = \"mlkube.io\"\n",
    "TF_JOB_VERSION = \"v1beta1\"\n",
    "TF_JOB_PLURAL = \"tfjobs\"\n",
    "TF_JOB_KIND = \"TfJob\""
   ]
  },
  {
   "cell_type": "markdown",
   "metadata": {},
   "source": [
    "Change **project** to a project you have access to.\n",
    "* GKE should be enabled for that project\n",
    "* Optional change the cluster name"
   ]
  },
  {
   "cell_type": "code",
   "execution_count": 4,
   "metadata": {
    "collapsed": false
   },
   "outputs": [
    {
     "data": {
      "text/html": [
       "\n",
       "          <script src=\"/static/components/requirejs/require.js\"></script>\n",
       "          <script>\n",
       "            requirejs.config({\n",
       "              paths: {\n",
       "                base: '/static/base',\n",
       "              },\n",
       "            });\n",
       "          </script>\n",
       "          "
      ],
      "text/plain": [
       "<IPython.core.display.HTML object>"
      ]
     },
     "metadata": {},
     "output_type": "display_data"
    }
   ],
   "source": [
    "project=\"cloud-ml-dev\"\n",
    "zone=\"us-east1-d\"\n",
    "cluster_name=\"gke-tf-example\"\n",
    "\n",
    "gke = discovery.build(\"container\", \"v1\")"
   ]
  },
  {
   "cell_type": "markdown",
   "metadata": {},
   "source": [
    "### Some Utility Functions"
   ]
  },
  {
   "cell_type": "code",
   "execution_count": 5,
   "metadata": {
    "collapsed": false
   },
   "outputs": [
    {
     "data": {
      "text/html": [
       "\n",
       "          <script src=\"/static/components/requirejs/require.js\"></script>\n",
       "          <script>\n",
       "            requirejs.config({\n",
       "              paths: {\n",
       "                base: '/static/base',\n",
       "              },\n",
       "            });\n",
       "          </script>\n",
       "          "
      ],
      "text/plain": [
       "<IPython.core.display.HTML object>"
      ]
     },
     "metadata": {},
     "output_type": "display_data"
    }
   ],
   "source": [
    "def run(command, cwd=None):\n",
    "  logging.info(\"Running: %s\", \" \".join(command))\n",
    "  subprocess.check_call(command, cwd=cwd)\n",
    "\n",
    "class TimeoutError(Exception):\n",
    "  \"\"\"An error indicating an operation timed out.\"\"\"\n",
    "\n",
    "def wait_for_operation(client,\n",
    "                       project,\n",
    "                       zone,\n",
    "                       op_id,\n",
    "                       timeout=datetime.timedelta(hours=1),\n",
    "                       polling_interval=datetime.timedelta(seconds=5)):\n",
    "  \"\"\"Wait for the specified operation to complete.\n",
    "\n",
    "  Args:\n",
    "    client: Client for the API that owns the operation.\n",
    "    project: project\n",
    "    zone: Zone. Set to none if its a global operation\n",
    "    op_id: Operation id.\n",
    "    timeout: A datetime.timedelta expressing the amount of time to wait before\n",
    "      giving up.\n",
    "    polling_interval: A datetime.timedelta to represent the amount of time to\n",
    "      wait between requests polling for the operation status.\n",
    "\n",
    "  Returns:\n",
    "    op: The final operation.\n",
    "\n",
    "  Raises:\n",
    "    TimeoutError: if we timeout waiting for the operation to complete.\n",
    "  \"\"\"\n",
    "  endtime = datetime.datetime.now() + timeout\n",
    "  while True:\n",
    "    if zone:\n",
    "      op = client.projects().zones().operations().get(\n",
    "          projectId=project, zone=zone,\n",
    "          operationId=op_id).execute()\n",
    "    else:\n",
    "      op = client.globalOperations().get(project=project,\n",
    "                                         operation=op_id).execute()\n",
    "\n",
    "    status = op.get(\"status\", \"\")\n",
    "    # Need to handle other status's\n",
    "    if status == \"DONE\":\n",
    "      return op\n",
    "    if datetime.datetime.now() > endtime:\n",
    "      raise TimeoutError(\"Timed out waiting for op: {0} to complete.\".format(\n",
    "          op_id))\n",
    "    time.sleep(polling_interval.total_seconds())\n"
   ]
  },
  {
   "cell_type": "markdown",
   "metadata": {},
   "source": [
    "## GKE Cluster Setup"
   ]
  },
  {
   "cell_type": "markdown",
   "metadata": {},
   "source": [
    "* The instructions below create a **CPU** cluster\n",
    "* To create a GKE cluster with GPUs sign up for the [GKE GPU Alpha](https://goo.gl/forms/ef7eh2x00hV3hahx1)\n",
    "* TODO(jlewi): Update code once GPUs are in beta."
   ]
  },
  {
   "cell_type": "code",
   "execution_count": 6,
   "metadata": {
    "collapsed": false
   },
   "outputs": [
    {
     "data": {
      "text/html": [
       "\n",
       "          <script src=\"/static/components/requirejs/require.js\"></script>\n",
       "          <script>\n",
       "            requirejs.config({\n",
       "              paths: {\n",
       "                base: '/static/base',\n",
       "              },\n",
       "            });\n",
       "          </script>\n",
       "          "
      ],
      "text/plain": [
       "<IPython.core.display.HTML object>"
      ]
     },
     "metadata": {},
     "output_type": "display_data"
    },
    {
     "name": "stderr",
     "output_type": "stream",
     "text": [
      "INFO:root:Creating cluster; project=cloud-ml-dev, zone=us-east1-d, name=gke-tf-example\n",
      "ERROR:root:Exception occured creating cluster: <HttpError 409 when requesting https://container.googleapis.com/v1/projects/cloud-ml-dev/zones/us-east1-d/clusters?alt=json returned \"The resource \"projects/cloud-ml-dev/zones/us-east1-d/clusters/gke-tf-example\" already exists.\">, status: 409\n",
      "INFO:root:Configuring kubectl\n",
      "INFO:root:Running: gcloud --project=cloud-ml-dev container clusters --zone=us-east1-d get-credentials gke-tf-example\n"
     ]
    }
   ],
   "source": [
    "def create_cluster(gke, name, project, zone):\n",
    "  \"\"\"Create the cluster.\n",
    "\n",
    "  Args:\n",
    "    gke: Client for GKE.\n",
    "\n",
    "  \"\"\"\n",
    "  cluster_request = {\n",
    "      \"cluster\": {\n",
    "          \"name\": name,\n",
    "          \"description\": \"A GKE cluster for TF.\",\n",
    "          \"initialNodeCount\": 1,\n",
    "          \"nodeConfig\": {\n",
    "              \"machineType\": \"n1-standard-8\",\n",
    "          },\n",
    "      }\n",
    "  }\n",
    "  request = gke.projects().zones().clusters().create(body=cluster_request,\n",
    "                                                     projectId=project,\n",
    "                                                     zone=zone)\n",
    "\n",
    "  try:\n",
    "    logging.info(\"Creating cluster; project=%s, zone=%s, name=%s\", project,\n",
    "                 zone, name)\n",
    "    response = request.execute()\n",
    "    logging.info(\"Response %s\", response)\n",
    "    create_op = wait_for_operation(gke, project, zone, response[\"name\"])\n",
    "    logging.info(\"Cluster creation done.\\n %s\", create_op)\n",
    "\n",
    "  except errors.HttpError as e:\n",
    "    logging.error(\"Exception occured creating cluster: %s, status: %s\",\n",
    "                  e, e.resp[\"status\"])\n",
    "    # Status appears to be a string.\n",
    "    if e.resp[\"status\"] == '409':      \n",
    "      pass\n",
    "    else:\n",
    "      raise\n",
    "\n",
    "create_cluster(gke, cluster_name, project, zone)      \n",
    "logging.info(\"Configuring kubectl\")\n",
    "run([\"gcloud\", \"--project=\" + project, \"container\",\n",
    "     \"clusters\", \"--zone=\" + zone, \"get-credentials\", cluster_name])\n"
   ]
  },
  {
   "cell_type": "markdown",
   "metadata": {},
   "source": [
    "### Install the Operator"
   ]
  },
  {
   "cell_type": "code",
   "execution_count": 19,
   "metadata": {
    "collapsed": false
   },
   "outputs": [
    {
     "data": {
      "text/html": [
       "\n",
       "          <script src=\"/static/components/requirejs/require.js\"></script>\n",
       "          <script>\n",
       "            requirejs.config({\n",
       "              paths: {\n",
       "                base: '/static/base',\n",
       "              },\n",
       "            });\n",
       "          </script>\n",
       "          "
      ],
      "text/plain": [
       "<IPython.core.display.HTML object>"
      ]
     },
     "metadata": {},
     "output_type": "display_data"
    },
    {
     "name": "stderr",
     "output_type": "stream",
     "text": [
      "INFO:root:Running: helm init\n"
     ]
    }
   ],
   "source": [
    "run([\"helm\", \"init\"])"
   ]
  },
  {
   "cell_type": "code",
   "execution_count": 20,
   "metadata": {
    "collapsed": false
   },
   "outputs": [
    {
     "data": {
      "text/html": [
       "\n",
       "          <script src=\"/static/components/requirejs/require.js\"></script>\n",
       "          <script>\n",
       "            requirejs.config({\n",
       "              paths: {\n",
       "                base: '/static/base',\n",
       "              },\n",
       "            });\n",
       "          </script>\n",
       "          "
      ],
      "text/plain": [
       "<IPython.core.display.HTML object>"
      ]
     },
     "metadata": {},
     "output_type": "display_data"
    },
    {
     "name": "stderr",
     "output_type": "stream",
     "text": [
      "INFO:root:Running: helm install https://storage.googleapis.com/tf-on-k8s-dogfood-releases/latest/tf-job-operator-chart-latest.tgz -n tf-job --wait --replace\n"
     ]
    }
   ],
   "source": [
    "CHART=\"https://storage.googleapis.com/tf-on-k8s-dogfood-releases/latest/tf-job-operator-chart-latest.tgz\"\n",
    "run([\"helm\", \"install\", CHART, \"-n\", \"tf-job\", \"--wait\", \"--replace\"])"
   ]
  },
  {
   "cell_type": "markdown",
   "metadata": {},
   "source": [
    "### Create a TfJob"
   ]
  },
  {
   "cell_type": "code",
   "execution_count": 50,
   "metadata": {
    "collapsed": false
   },
   "outputs": [
    {
     "data": {
      "text/html": [
       "\n",
       "          <script src=\"/static/components/requirejs/require.js\"></script>\n",
       "          <script>\n",
       "            requirejs.config({\n",
       "              paths: {\n",
       "                base: '/static/base',\n",
       "              },\n",
       "            });\n",
       "          </script>\n",
       "          "
      ],
      "text/plain": [
       "<IPython.core.display.HTML object>"
      ]
     },
     "metadata": {},
     "output_type": "display_data"
    },
    {
     "name": "stdout",
     "output_type": "stream",
     "text": [
      "{u'apiVersion': u'mlkube.io/v1beta1',\n",
      " u'kind': u'TfJob',\n",
      " u'metadata': {u'clusterName': u'',\n",
      "               u'creationTimestamp': u'2017-10-25T21:41:32Z',\n",
      "               u'deletionGracePeriodSeconds': None,\n",
      "               u'deletionTimestamp': None,\n",
      "               u'name': u'tf-job-example',\n",
      "               u'namespace': u'default',\n",
      "               u'resourceVersion': u'85669',\n",
      "               u'selfLink': u'/apis/mlkube.io/v1beta1/namespaces/default/tfjobs/tf-job-example',\n",
      "               u'uid': u'4441fb92-b9cd-11e7-af95-42010a8e019d'},\n",
      " u'spec': {u'replicaSpecs': [{u'replicas': 1,\n",
      "                              u'template': {u'spec': {u'containers': [{u'image': u'gcr.io/tf-on-k8s-dogfood/tf_sample:dc944ff',\n",
      "                                                                       u'name': u'tensorflow'}],\n",
      "                                                      u'restartPolicy': u'OnFailure'}},\n",
      "                              u'tfReplicaType': u'MASTER'},\n",
      "                             {u'replicas': 1,\n",
      "                              u'template': {u'spec': {u'containers': [{u'image': u'gcr.io/tf-on-k8s-dogfood/tf_sample:dc944ff',\n",
      "                                                                       u'name': u'tensorflow'}],\n",
      "                                                      u'restartPolicy': u'OnFailure'}},\n",
      "                              u'tfReplicaType': u'WORKER'},\n",
      "                             {u'replicas': 2, u'tfReplicaType': u'PS'}]}}\n"
     ]
    }
   ],
   "source": [
    "k8s_config.load_kube_config()\n",
    "api_client = k8s_client.ApiClient()\n",
    "crd_api = k8s_client.CustomObjectsApi(api_client)\n",
    "\n",
    "namespace = \"default\"\n",
    "job_name = \"tf-job-example\"\n",
    "body = {}\n",
    "body['apiVersion'] = TF_JOB_GROUP + \"/\" + TF_JOB_VERSION\n",
    "body['kind'] = TF_JOB_KIND\n",
    "body['metadata'] = {}\n",
    "body['metadata']['name'] = job_name\n",
    "body['metadata']['namespace'] = namespace\n",
    "\n",
    "spec = \"\"\"\n",
    "  replicaSpecs:\n",
    "    - replicas: 1\n",
    "      tfReplicaType: MASTER\n",
    "      template:\n",
    "        spec:\n",
    "          containers:\n",
    "            - image: gcr.io/tf-on-k8s-dogfood/tf_sample:dc944ff\n",
    "              name: tensorflow\n",
    "          restartPolicy: OnFailure\n",
    "    - replicas: 1\n",
    "      tfReplicaType: WORKER\n",
    "      template:\n",
    "        spec:\n",
    "          containers:\n",
    "            - image: gcr.io/tf-on-k8s-dogfood/tf_sample:dc944ff\n",
    "              name: tensorflow\n",
    "          restartPolicy: OnFailure\n",
    "    - replicas: 2\n",
    "      tfReplicaType: PS\n",
    "\"\"\"\n",
    "spec_buffer = StringIO.StringIO(spec)\n",
    "body['spec'] = yaml.load(spec_buffer)\n",
    "\n",
    "try: \n",
    "    # Create a Resource\n",
    "    api_response = crd_api.create_namespaced_custom_object(TF_JOB_GROUP, TF_JOB_VERSION, namespace, TF_JOB_PLURAL, body)\n",
    "    pprint(api_response)\n",
    "except ApiException as e:\n",
    "    print(\n",
    "        \"Exception when calling DefaultApi->apis_fqdn_v1_namespaces_namespace_resource_post: %s\\n\" % \n",
    "        e)"
   ]
  },
  {
   "cell_type": "markdown",
   "metadata": {},
   "source": [
    "### Get status of job"
   ]
  },
  {
   "cell_type": "code",
   "execution_count": 51,
   "metadata": {
    "collapsed": false
   },
   "outputs": [
    {
     "data": {
      "text/html": [
       "\n",
       "          <script src=\"/static/components/requirejs/require.js\"></script>\n",
       "          <script>\n",
       "            requirejs.config({\n",
       "              paths: {\n",
       "                base: '/static/base',\n",
       "              },\n",
       "            });\n",
       "          </script>\n",
       "          "
      ],
      "text/plain": [
       "<IPython.core.display.HTML object>"
      ]
     },
     "metadata": {},
     "output_type": "display_data"
    },
    {
     "name": "stdout",
     "output_type": "stream",
     "text": [
      "{u'apiVersion': u'mlkube.io/v1beta1',\n",
      " u'kind': u'TfJob',\n",
      " u'metadata': {u'clusterName': u'',\n",
      "               u'creationTimestamp': u'2017-10-25T21:41:32Z',\n",
      "               u'generation': 0,\n",
      "               u'name': u'tf-job-example',\n",
      "               u'namespace': u'default',\n",
      "               u'resourceVersion': u'85720',\n",
      "               u'selfLink': u'/apis/mlkube.io/v1beta1/namespaces/default/tfjobs/tf-job-example',\n",
      "               u'uid': u'4441fb92-b9cd-11e7-af95-42010a8e019d'},\n",
      " u'spec': {u'RuntimeId': u'xxjf',\n",
      "           u'replicaSpecs': [{u'IsDefaultPS': False,\n",
      "                              u'replicas': 1,\n",
      "                              u'template': {u'metadata': {u'creationTimestamp': None},\n",
      "                                            u'spec': {u'containers': [{u'image': u'gcr.io/tf-on-k8s-dogfood/tf_sample:dc944ff',\n",
      "                                                                       u'name': u'tensorflow',\n",
      "                                                                       u'resources': {}}],\n",
      "                                                      u'restartPolicy': u'OnFailure'}},\n",
      "                              u'tfPort': 2222,\n",
      "                              u'tfReplicaType': u'MASTER'},\n",
      "                             {u'IsDefaultPS': False,\n",
      "                              u'replicas': 1,\n",
      "                              u'template': {u'metadata': {u'creationTimestamp': None},\n",
      "                                            u'spec': {u'containers': [{u'image': u'gcr.io/tf-on-k8s-dogfood/tf_sample:dc944ff',\n",
      "                                                                       u'name': u'tensorflow',\n",
      "                                                                       u'resources': {}}],\n",
      "                                                      u'restartPolicy': u'OnFailure'}},\n",
      "                              u'tfPort': 2222,\n",
      "                              u'tfReplicaType': u'WORKER'},\n",
      "                             {u'IsDefaultPS': True,\n",
      "                              u'replicas': 2,\n",
      "                              u'template': {u'metadata': {u'creationTimestamp': None},\n",
      "                                            u'spec': {u'containers': [{u'image': u'tensorflow/tensorflow:1.3.0',\n",
      "                                                                       u'name': u'tensorflow',\n",
      "                                                                       u'resources': {},\n",
      "                                                                       u'volumeMounts': [{u'mountPath': u'/ps-server',\n",
      "                                                                                          u'name': u'ps-config-volume'}]}],\n",
      "                                                      u'restartPolicy': u'OnFailure'}},\n",
      "                              u'tfPort': 2222,\n",
      "                              u'tfReplicaType': u'PS'}],\n",
      "           u'tensorboard': None,\n",
      "           u'tfImage': u'tensorflow/tensorflow:1.3.0'},\n",
      " u'status': {u'conditions': None,\n",
      "             u'controlPaused': False,\n",
      "             u'phase': u'Running',\n",
      "             u'reason': u'',\n",
      "             u'replicaStatuses': [{u'ReplicasStates': {u'Running': 1},\n",
      "                                   u'state': u'Running',\n",
      "                                   u'tf_replica_type': u'MASTER'},\n",
      "                                  {u'ReplicasStates': {u'Running': 1},\n",
      "                                   u'state': u'Running',\n",
      "                                   u'tf_replica_type': u'WORKER'},\n",
      "                                  {u'ReplicasStates': {u'Running': 2},\n",
      "                                   u'state': u'Running',\n",
      "                                   u'tf_replica_type': u'PS'}],\n",
      "             u'state': u''}}\n"
     ]
    }
   ],
   "source": [
    "k8s_config.load_kube_config()\n",
    "api_client = k8s_client.ApiClient()\n",
    "crd_api = k8s_client.CustomObjectsApi(api_client)\n",
    "\n",
    "results = crd_api.get_namespaced_custom_object(TF_JOB_GROUP, TF_JOB_VERSION, namespace, TF_JOB_PLURAL, job_name)\n",
    "\n",
    "pprint(results)"
   ]
  }
 ],
 "metadata": {
  "kernelspec": {
   "display_name": "Python 2",
   "language": "python",
   "name": "python2"
  },
  "language_info": {
   "codemirror_mode": {
    "name": "ipython",
    "version": 2
   },
   "file_extension": ".py",
   "mimetype": "text/x-python",
   "name": "python",
   "nbconvert_exporter": "python",
   "pygments_lexer": "ipython2",
   "version": "2.7.12"
  }
 },
 "nbformat": 4,
 "nbformat_minor": 2
}
